{
 "cells": [
  {
   "cell_type": "code",
   "execution_count": null,
   "metadata": {},
   "outputs": [],
   "source": [
    "import json\n",
    "import os\n"
   ]
  },
  {
   "cell_type": "code",
   "execution_count": null,
   "metadata": {},
   "outputs": [],
   "source": [
    "def count_tickers():\n",
    "    with open('etf_data_with_embeddings_v2.json', 'r') as f:\n",
    "        etf_data = json.load(f)\n",
    "        tickers = set()\n",
    "        for etf in etf_data:\n",
    "            for ticker in etf.get('tickers', []):\n",
    "                tickers.add(ticker)\n",
    "        print(f'total tickers: {len(tickers)}')\n",
    "\n",
    "# call count_tickers function\n",
    "count_tickers()"
   ]
  },
  {
   "cell_type": "code",
   "execution_count": null,
   "metadata": {},
   "outputs": [],
   "source": [
    "from google.cloud import storage\n",
    "class GCSFileManager:\n",
    "    def __init__(self, key_file_path):\n",
    "        # Set the path to the Google Cloud service account key file\n",
    "        os.environ[\"GOOGLE_APPLICATION_CREDENTIALS\"] = key_file_path\n",
    "        self.client = storage.Client()\n",
    "\n",
    "    def import_json_from_gcs(self, bucket_name, file_name):\n",
    "        # Get the bucket\n",
    "        bucket = self.client.get_bucket(bucket_name)\n",
    "\n",
    "        # Get the blob (file) from the bucket\n",
    "        blob = bucket.blob(file_name)\n",
    "\n",
    "        # Download the blob as a string\n",
    "        json_string = blob.download_as_text()\n",
    "\n",
    "        # Parse the JSON string\n",
    "        json_data = json.loads(json_string)\n",
    "\n",
    "        return json_data\n",
    "\n",
    "    def update_json_in_gcs(self, bucket_name, file_name, json_data):\n",
    "        # Get the bucket\n",
    "        bucket = self.client.get_bucket(bucket_name)\n",
    "\n",
    "        # Get the blob (file) from the bucket\n",
    "        blob = bucket.blob(file_name)\n",
    "\n",
    "        # Convert the JSON data to a string\n",
    "        json_string = json.dumps(json_data, indent=4)\n",
    "\n",
    "        # Upload the string to the blob\n",
    "        blob.upload_from_string(json_string)\n",
    "\n",
    "        print(f\"JSON data updated in the file {file_name} in the bucket {bucket_name}\")"
   ]
  },
  {
   "cell_type": "code",
   "execution_count": null,
   "metadata": {},
   "outputs": [],
   "source": [
    "# Usage example\n",
    "bucket_name = \"etf_repo\"\n",
    "file_name = \"sample_portfolio.json\"\n",
    "key_file_path = \"google_key.json\"\n",
    "\n",
    "gcs_file_manager = GCSFileManager(key_file_path)\n",
    "json_data = gcs_file_manager.import_json_from_gcs(bucket_name, file_name)\n",
    "\n",
    "# Print the JSON data\n",
    "print(json_data)"
   ]
  },
  {
   "cell_type": "code",
   "execution_count": null,
   "metadata": {},
   "outputs": [],
   "source": [
    "\n",
    "\n",
    "# Usage example\n",
    "recommender = ETFRecommender()\n",
    "recommender.load_data('etf_data_with_embeddings_v2.json')\n",
    "recommender.recommend_etfs()"
   ]
  }
 ],
 "metadata": {
  "kernelspec": {
   "display_name": ".venv",
   "language": "python",
   "name": "python3"
  },
  "language_info": {
   "codemirror_mode": {
    "name": "ipython",
    "version": 3
   },
   "file_extension": ".py",
   "mimetype": "text/x-python",
   "name": "python",
   "nbconvert_exporter": "python",
   "pygments_lexer": "ipython3",
   "version": "3.12.2"
  }
 },
 "nbformat": 4,
 "nbformat_minor": 2
}
